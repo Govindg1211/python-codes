{
 "cells": [
  {
   "cell_type": "code",
   "execution_count": 1,
   "id": "6b01b744-e909-41a1-bb35-bb5ad44e2d6e",
   "metadata": {},
   "outputs": [],
   "source": [
    "file = open(\"example.txt\", \"w\")\n",
    "file.write(\"hello, this is a test code performed in the class on 20 September\")\n",
    "file.close()"
   ]
  },
  {
   "cell_type": "code",
   "execution_count": 12,
   "id": "e3e94dd4-ff31-4d5f-8373-5f7da6225fc4",
   "metadata": {},
   "outputs": [
    {
     "name": "stdout",
     "output_type": "stream",
     "text": [
      "some dummy text data\n",
      " hello to all\n",
      "this is a test code performed in the class on 20 september\n"
     ]
    }
   ],
   "source": [
    "filename = \"example.txt\"\n",
    "file = open(\"example.txt\", \"r\")\n",
    "\n",
    "dataString = \"some dummy text data\\n hello to all\\nthis is a test code performed in the class on 20 september\"\n",
    "#print(dataString)\n",
    "fileContent = file.read()\n",
    "print(fileContent)\n",
    "file.close()\n"
   ]
  },
  {
   "cell_type": "markdown",
   "id": "f3783ebb-ed78-40b9-9385-bbc60b4031e5",
   "metadata": {},
   "source": [
    "### WAP to read a csv file and store the data as a 2 Dimentional list"
   ]
  },
  {
   "cell_type": "code",
   "execution_count": 19,
   "id": "3532bc93-e14d-421f-bd65-55de8177ffe2",
   "metadata": {},
   "outputs": [
    {
     "ename": "TypeError",
     "evalue": "string indices must be integers",
     "output_type": "error",
     "traceback": [
      "\u001b[1;31m---------------------------------------------------------------------------\u001b[0m",
      "\u001b[1;31mTypeError\u001b[0m                                 Traceback (most recent call last)",
      "Cell \u001b[1;32mIn[19], line 26\u001b[0m\n\u001b[0;32m     23\u001b[0m     returnData \u001b[38;5;241m=\u001b[39m rows\n\u001b[0;32m     24\u001b[0m     \u001b[38;5;28;01mreturn\u001b[39;00m returnData\n\u001b[1;32m---> 26\u001b[0m recivedData \u001b[38;5;241m=\u001b[39m read_csv(\u001b[43mfile_name\u001b[49m\u001b[43m[\u001b[49m\u001b[38;5;241;43m3\u001b[39;49m\u001b[43m,\u001b[49m\u001b[38;5;241;43m5\u001b[39;49m\u001b[43m]\u001b[49m)\n\u001b[0;32m     27\u001b[0m \u001b[38;5;28mprint\u001b[39m(recivedData)   \u001b[38;5;66;03m## this will print the whole csv as a 2 dimentional list\u001b[39;00m\n\u001b[0;32m     28\u001b[0m \u001b[38;5;28mprint\u001b[39m(\u001b[38;5;28mtype\u001b[39m(recivedData))\n",
      "\u001b[1;31mTypeError\u001b[0m: string indices must be integers"
     ]
    }
   ],
   "source": [
    "# program to read a csv file and return a list of list\n",
    "file_name = \"cereal.csv\"\n",
    "\n",
    "#create an empty list \n",
    "list1 = []\n",
    "# function to read csv file and return list\n",
    "def read_csv (file_name):\n",
    "    fileHandle = open(file_name, \"r\")\n",
    "    data = fileHandle.read()\n",
    "    fileHandle.close()\n",
    "\n",
    "    rows = data.split(\"\\n\")\n",
    "    print(\"\\n\")\n",
    "    print(rows)\n",
    "\n",
    "    for  i in range(0, len(rows)):\n",
    "        row = rows[i]\n",
    "        rows[i] = row.split(\",\")\n",
    "    \n",
    "    list1 = data.split(\",\")\n",
    "    data = list1\n",
    "    #return data\n",
    "    returnData = rows\n",
    "    return returnData\n",
    "\n",
    "recivedData = read_csv(file_name[3,5])\n",
    "print(recivedData)   ## this will print the whole csv as a 2 dimentional list\n",
    "print(type(recivedData))"
   ]
  },
  {
   "cell_type": "code",
   "execution_count": null,
   "id": "bb5e3b24-bbbd-47f9-bb92-ebea76250987",
   "metadata": {},
   "outputs": [],
   "source": []
  },
  {
   "cell_type": "code",
   "execution_count": null,
   "id": "d7d20b4b-be9d-49f3-be3a-1e4f4bb668bc",
   "metadata": {},
   "outputs": [],
   "source": []
  }
 ],
 "metadata": {
  "kernelspec": {
   "display_name": "Python 3 (ipykernel)",
   "language": "python",
   "name": "python3"
  },
  "language_info": {
   "codemirror_mode": {
    "name": "ipython",
    "version": 3
   },
   "file_extension": ".py",
   "mimetype": "text/x-python",
   "name": "python",
   "nbconvert_exporter": "python",
   "pygments_lexer": "ipython3",
   "version": "3.10.7"
  }
 },
 "nbformat": 4,
 "nbformat_minor": 5
}
