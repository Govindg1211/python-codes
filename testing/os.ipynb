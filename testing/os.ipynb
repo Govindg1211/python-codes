{
 "cells": [
  {
   "cell_type": "code",
   "execution_count": 5,
   "id": "3a246824-4535-47f7-b77b-637ed7d07a0a",
   "metadata": {},
   "outputs": [
    {
     "name": "stdin",
     "output_type": "stream",
     "text": [
      "Enter the directory path to organize:  D:\\MASTERS\\semester 1\\Python\\python-codes\\testing\n"
     ]
    },
    {
     "name": "stdout",
     "output_type": "stream",
     "text": [
      "Files have been organized!\n"
     ]
    }
   ],
   "source": [
    "import os\n",
    "\n",
    "\n",
    "#Function to organize files into different folders\n",
    "\n",
    "\n",
    "def organize_files(directory):\n",
    "    # Detect the operating system using os.name\n",
    "    is_windows = os.name == 'nt'\n",
    "    # Define file categories and corresponding file extensions\n",
    "    file_types = {\n",
    "        'Videos': ['.mp4', '.mkv', '.avi', '.mov'],\n",
    "        'Audios': ['.mp3', '.wav', '.aac', '.flac'],\n",
    "        'Images': ['.jpg', '.jpeg', '.png', '.gif', '.bmp'],\n",
    "        'Documents': ['.pdf', '.doc', '.docx', '.xls', '.xlsx', '.ppt', '.pptx', '.txt'],\n",
    "        'Misc': []\n",
    "    }\n",
    "    # Create folders for each file category if they don't already exist\n",
    "    for folder in file_types.keys():\n",
    "        folder_path = os.path.join(directory, folder)\n",
    "        if not os.path.exists(folder_path):\n",
    "            os.makedirs(folder_path)\n",
    "    # Iterate over the files in the directory\n",
    "    for file_name in os.listdir(directory):\n",
    "        file_path = os.path.join(directory, file_name)\n",
    "        # Skip directories\n",
    "        if os.path.isdir(file_path):\n",
    "            continue\n",
    "        \n",
    "        # Determine the file extension\n",
    "        file_extension = os.path.splitext(file_name)[1].lower()\n",
    "        # Find the appropriate category for the file\n",
    "        moved = False\n",
    "        for folder, extensions in file_types.items():\n",
    "            if file_extension in extensions:\n",
    "                # Move the file to the corresponding folder\n",
    "                destination = os.path.join(directory, folder, file_name)\n",
    "                \n",
    "                # Check if file already exists at the destination\n",
    "                if not os.path.exists(destination):\n",
    "                    if is_windows:\n",
    "                        os.system(f'move \"{file_path}\" \"{destination}\"')\n",
    "                    else:\n",
    "                        os.system(f'mv \"{file_path}\" \"{destination}\"')\n",
    "                moved = True\n",
    "                break\n",
    "        \n",
    "        # If no matching category is found, move to the 'Misc' folder\n",
    "        if not moved:\n",
    "            misc_destination = os.path.join(directory, 'Misc', file_name)\n",
    "            if not os.path.exists(misc_destination):\n",
    "                if is_windows:\n",
    "                    os.system(f'move \"{file_path}\" \"{misc_destination}\"')\n",
    "                else:\n",
    "                    os.system(f'mv \"{file_path}\" \"{misc_destination}\"')\n",
    "    print(\"Files have been organized!\")#Example usage\n",
    "\n",
    "\n",
    "if __name__ == \"__main__\":\n",
    "    user_input = input(\"Enter the directory path to organize: \")\n",
    "    if os.path.exists(user_input):\n",
    "        organize_files(user_input)\n",
    "    else:\n",
    "        print(\"Invalid directory path!\")"
   ]
  },
  {
   "cell_type": "code",
   "execution_count": null,
   "id": "fbdcccbf-8c4b-449e-9e76-a39468c055ec",
   "metadata": {},
   "outputs": [],
   "source": []
  },
  {
   "cell_type": "code",
   "execution_count": null,
   "id": "1cd5d89a-b929-4682-9246-24454f7d047d",
   "metadata": {},
   "outputs": [],
   "source": []
  }
 ],
 "metadata": {
  "kernelspec": {
   "display_name": "Python 3 (ipykernel)",
   "language": "python",
   "name": "python3"
  },
  "language_info": {
   "codemirror_mode": {
    "name": "ipython",
    "version": 3
   },
   "file_extension": ".py",
   "mimetype": "text/x-python",
   "name": "python",
   "nbconvert_exporter": "python",
   "pygments_lexer": "ipython3",
   "version": "3.10.7"
  }
 },
 "nbformat": 4,
 "nbformat_minor": 5
}
