{
 "cells": [
  {
   "cell_type": "markdown",
   "id": "14c96dc6-915a-4b88-8d72-2b0af6721edb",
   "metadata": {},
   "source": [
    "## Python Assignment 2"
   ]
  },
  {
   "cell_type": "markdown",
   "id": "f05a08b1-c8f2-44ec-a15e-78db1e3ad065",
   "metadata": {},
   "source": [
    "### Write a function greet that takes two arguments: name (a string) and greeting (a string with a default value of \"Hello\"). The function should return a greeting message."
   ]
  },
  {
   "cell_type": "code",
   "execution_count": 5,
   "id": "7957fe93-5f12-42da-bc34-010e847707a4",
   "metadata": {},
   "outputs": [
    {
     "name": "stdout",
     "output_type": "stream",
     "text": [
      "Hello, Govind\n",
      "Welcome Come in, Varun\n"
     ]
    }
   ],
   "source": [
    "def greet(name, greeting=\"Hello\"):\n",
    "    return f\"{greeting}, {name}\"\n",
    "\n",
    "print(greet(\"Govind\"))          \n",
    "print(greet(\"Varun\", \"Welcome Come in\"))  "
   ]
  },
  {
   "cell_type": "markdown",
   "id": "b4f83829-23c2-4468-8ec4-87e407beb576",
   "metadata": {},
   "source": [
    "### Create a function create_profile that takes arguments for name, age, and city as named arguments. The function should return a string like \"Name: Alice, Age: 25, City: New York\". Ensure that the age argument has a default value of 18."
   ]
  },
  {
   "cell_type": "code",
   "execution_count": 9,
   "id": "ef43902a-af78-4a57-8c45-5ee37c4d52b5",
   "metadata": {},
   "outputs": [
    {
     "name": "stdout",
     "output_type": "stream",
     "text": [
      "Name: Govind, Age: 18, City: Delhi\n",
      "Name: Govind, Age: 21, City: Dehradun\n"
     ]
    }
   ],
   "source": [
    "def create_profile(name,city, age = 18):\n",
    "    return f\"Name: {name}, Age: {age}, City: {city}\"\n",
    "\n",
    "print(create_profile(name=\"Govind\", city=\"Delhi\"))         \n",
    "print(create_profile(name=\"Govind\", age=21, city=\"Dehradun\")) \n",
    "    "
   ]
  },
  {
   "cell_type": "markdown",
   "id": "eda92b1d-acc1-449c-ac54-0c0e8396aa36",
   "metadata": {},
   "source": [
    "### Write a function sum_numbers that takes any number of positional arguments (args) and keyword arguments (*kwargs). It should:\n",
    "    Return the sum of all *args if they are numbers.\n",
    "    Return a dictionary of all keyword arguments."
   ]
  },
  {
   "cell_type": "code",
   "execution_count": 14,
   "id": "97e1dfbb-d80e-48f8-ab36-15c4f70baa8b",
   "metadata": {},
   "outputs": [
    {
     "name": "stdout",
     "output_type": "stream",
     "text": [
      "Sum of numbers: 128\n",
      "Keyword arguments: {'x': 'this is my assignment', 'y': 43, 'z': 67}\n"
     ]
    }
   ],
   "source": [
    "def sum_numbers(*args,**kwargs):\n",
    "    sumNum=0\n",
    "    for num in args:\n",
    "        if (isinstance(num,(int,float))):\n",
    "            sumNum+=num\n",
    "    return sumNum,kwargs\n",
    "sumNum, kwargsDict = sum_numbers(\"Govind\",42,73,13,\"Hello\",x=\"this is my assignment\",y=43,z=67)\n",
    "print(\"Sum of numbers:\", sumNum)      \n",
    "print(\"Keyword arguments:\", kwargsDict)"
   ]
  },
  {
   "cell_type": "markdown",
   "id": "fecd20a5-c769-4c58-9918-2325730c459f",
   "metadata": {},
   "source": [
    "### Write a function that uses map and a lambda to return a list where each element is squared."
   ]
  },
  {
   "cell_type": "code",
   "execution_count": 15,
   "id": "152348dd-379c-488e-94b2-2b79b75617b5",
   "metadata": {},
   "outputs": [
    {
     "name": "stdin",
     "output_type": "stream",
     "text": [
      "Enter size of list: 10\n",
      "Enter 1th element: 1\n",
      "Enter 2th element: 2\n",
      "Enter 3th element: 3\n",
      "Enter 4th element: 4\n",
      "Enter 5th element: 5\n",
      "Enter 6th element: 6\n",
      "Enter 7th element: 7\n",
      "Enter 8th element: 8\n",
      "Enter 9th element: 9\n",
      "Enter 10th element: 10\n"
     ]
    },
    {
     "name": "stdout",
     "output_type": "stream",
     "text": [
      "[1, 4, 9, 16, 25, 36, 49, 64, 81, 100]\n"
     ]
    }
   ],
   "source": [
    "list1=[]\n",
    "def squaredList(list1):\n",
    "    squared=map(lambda x:x *x,list1)\n",
    "    return squared\n",
    "element=int(input(\"Enter size of list:\"))\n",
    "for i in range(element):\n",
    "    num=int(input(f\"Enter {i+1}th element:\"))\n",
    "    list1.append(num)\n",
    "print(list(squaredList(list1)))    "
   ]
  },
  {
   "cell_type": "markdown",
   "id": "b121da50-de97-4710-9ec0-b4e716545261",
   "metadata": {},
   "source": [
    "### Write a function that filters out all odd numbers from a list using filter and a lambda function."
   ]
  },
  {
   "cell_type": "code",
   "execution_count": 24,
   "id": "97fbb41b-291e-400f-b21a-8305f3d38860",
   "metadata": {},
   "outputs": [
    {
     "name": "stdin",
     "output_type": "stream",
     "text": [
      "Enter size of list: 2\n",
      "Enter 1th element: 1\n",
      "Enter 2th element: 2\n"
     ]
    },
    {
     "ename": "TypeError",
     "evalue": "filter() takes 1 positional argument but 2 were given",
     "output_type": "error",
     "traceback": [
      "\u001b[1;31m---------------------------------------------------------------------------\u001b[0m",
      "\u001b[1;31mTypeError\u001b[0m                                 Traceback (most recent call last)",
      "Cell \u001b[1;32mIn[24], line 9\u001b[0m\n\u001b[0;32m      7\u001b[0m     num\u001b[38;5;241m=\u001b[39m\u001b[38;5;28mint\u001b[39m(\u001b[38;5;28minput\u001b[39m(\u001b[38;5;124mf\u001b[39m\u001b[38;5;124m\"\u001b[39m\u001b[38;5;124mEnter \u001b[39m\u001b[38;5;132;01m{\u001b[39;00mi\u001b[38;5;241m+\u001b[39m\u001b[38;5;241m1\u001b[39m\u001b[38;5;132;01m}\u001b[39;00m\u001b[38;5;124mth element:\u001b[39m\u001b[38;5;124m\"\u001b[39m))\n\u001b[0;32m      8\u001b[0m     list1\u001b[38;5;241m.\u001b[39mappend(num)\n\u001b[1;32m----> 9\u001b[0m \u001b[38;5;28mprint\u001b[39m(\u001b[38;5;28mlist\u001b[39m(\u001b[43moddList\u001b[49m\u001b[43m(\u001b[49m\u001b[43mlist1\u001b[49m\u001b[43m)\u001b[49m))\n",
      "Cell \u001b[1;32mIn[24], line 3\u001b[0m, in \u001b[0;36moddList\u001b[1;34m(list1)\u001b[0m\n\u001b[0;32m      2\u001b[0m \u001b[38;5;28;01mdef\u001b[39;00m \u001b[38;5;21moddList\u001b[39m(list1):\n\u001b[1;32m----> 3\u001b[0m     oddNum\u001b[38;5;241m=\u001b[39m\u001b[38;5;28;43mfilter\u001b[39;49m\u001b[43m(\u001b[49m\u001b[38;5;28;43;01mlambda\u001b[39;49;00m\u001b[43m \u001b[49m\u001b[43mx\u001b[49m\u001b[43m:\u001b[49m\u001b[43mx\u001b[49m\u001b[38;5;241;43m%\u001b[39;49m\u001b[38;5;241;43m2\u001b[39;49m\u001b[38;5;241;43m!=\u001b[39;49m\u001b[38;5;241;43m0\u001b[39;49m\u001b[43m,\u001b[49m\u001b[43mlist1\u001b[49m\u001b[43m)\u001b[49m\n\u001b[0;32m      4\u001b[0m     \u001b[38;5;28;01mreturn\u001b[39;00m oddNum\n",
      "\u001b[1;31mTypeError\u001b[0m: filter() takes 1 positional argument but 2 were given"
     ]
    }
   ],
   "source": [
    "list1=[]\n",
    "def oddList(list1):\n",
    "    oddNum=filter(lambda x:x%2!=0,list1)\n",
    "    return oddNum\n",
    "ele=int(input(\"Enter size of list:\"))\n",
    "for i in range(ele):\n",
    "    num=int(input(f\"Enter {i+1}th element:\"))\n",
    "    list1.append(num)\n",
    "print(list(oddList(list1)))"
   ]
  },
  {
   "cell_type": "markdown",
   "id": "255108be-6ec6-49da-9c97-0b6be5acc67f",
   "metadata": {},
   "source": [
    "### Create a list comprehension that takes a list of numbers and returns a list of their squares."
   ]
  },
  {
   "cell_type": "code",
   "execution_count": 26,
   "id": "6876c5ef-a5a2-4542-bbbe-e09c5a9baadd",
   "metadata": {},
   "outputs": [
    {
     "name": "stdin",
     "output_type": "stream",
     "text": [
      "Enter size of list: 10\n",
      "Enter 1th element: 1\n",
      "Enter 2th element: 2\n",
      "Enter 3th element: 3\n",
      "Enter 4th element: 4\n",
      "Enter 5th element: 5\n",
      "Enter 6th element: 6\n",
      "Enter 7th element: 7\n",
      "Enter 8th element: 8\n",
      "Enter 9th element: 9\n",
      "Enter 10th element: 10\n"
     ]
    },
    {
     "name": "stdout",
     "output_type": "stream",
     "text": [
      "[1, 4, 9, 16, 25, 36, 49, 64, 81, 100]\n"
     ]
    }
   ],
   "source": [
    "list1=[]\n",
    "def squaredList(list1):\n",
    "    squared = [i ** 2 for i in list1]\n",
    "    return squared\n",
    "ele=int(input(\"Enter size of list:\"))\n",
    "for i in range(ele):\n",
    "    num=int(input(f\"Enter {i+1}th element:\"))\n",
    "    list1.append(num)\n",
    "print(list(squaredList(list1)))"
   ]
  },
  {
   "cell_type": "markdown",
   "id": "404dfba3-6d58-43c6-bab4-77b428463995",
   "metadata": {},
   "source": [
    "### Use a list comprehension to create a list of even numbers from 1 to 20."
   ]
  },
  {
   "cell_type": "code",
   "execution_count": 27,
   "id": "b53443b0-60b3-4eb5-891d-3c39f76092a6",
   "metadata": {},
   "outputs": [
    {
     "name": "stdout",
     "output_type": "stream",
     "text": [
      "[2, 4, 6, 8, 10, 12, 14, 16, 18, 20]\n"
     ]
    }
   ],
   "source": [
    "def evenList():\n",
    "    evenNum = [i for i in range(1,21) if i % 2 == 0]\n",
    "    return evenNum\n",
    "\n",
    "print(list(evenList()))"
   ]
  },
  {
   "cell_type": "markdown",
   "id": "0c162ece-9220-4ff0-ad3e-e8da3f0ccd06",
   "metadata": {},
   "source": [
    "### Write a function file_operations that creates a directory named \"test_folder\" using os.makedirs(). Then, pause the execution for 3 seconds using time.sleep(), and finally, delete the directory using os.rmdir()."
   ]
  },
  {
   "cell_type": "code",
   "execution_count": 33,
   "id": "b2cab3f4-c4ea-458c-aa23-4f54529439a8",
   "metadata": {},
   "outputs": [
    {
     "name": "stdout",
     "output_type": "stream",
     "text": [
      "\n",
      " the time before sleep 1727710807\n",
      "\n",
      " the time after sleep 1727710810.\n",
      "Directory has been removed successfully\n"
     ]
    }
   ],
   "source": [
    "import os\n",
    "import time\n",
    "def file_operations():\n",
    "    os.makedirs(\"./test_folder\")\n",
    "    startTime=time.time()\n",
    "    startTime=int(startTime)\n",
    "    print(f\"\\n the time before sleep {startTime}\")\n",
    "    time.sleep(3)\n",
    "    endTime=time.time()\n",
    "    endTime=int(endTime)\n",
    "    print(f\"\\n the time after sleep {endTime}.\")\n",
    "    os.rmdir(\"./test_folder\")\n",
    "    print(\"Directory has been removed successfully\")\n",
    "file_operations()"
   ]
  },
  {
   "cell_type": "markdown",
   "id": "401f767e-8837-458a-9c01-d8ff2024d5e0",
   "metadata": {},
   "source": [
    "### Write a Python script that imports only sleep from the time module and renames it to pause. Use it to pause execution for 2 seconds and print \"Paused execution...\"."
   ]
  },
  {
   "cell_type": "code",
   "execution_count": 35,
   "id": "62de77ae-3b92-4010-bb10-b9c476843c77",
   "metadata": {},
   "outputs": [
    {
     "name": "stdout",
     "output_type": "stream",
     "text": [
      "Hello\n",
      "Paused execution for 2 seconds\n",
      "Resumed execution for 2 seconds\n"
     ]
    }
   ],
   "source": [
    "from time import sleep as pause\n",
    "print(\"Hello\")\n",
    "print(\"Paused execution for 2 seconds\")\n",
    "pause(3)\n",
    "print(\"Resumed execution for 2 seconds\")"
   ]
  },
  {
   "cell_type": "markdown",
   "id": "f7d66445-80d8-4e9a-be82-3b3a6cd926d8",
   "metadata": {},
   "source": [
    "### Write a recursive function flatten_list that can flatten a nested list of any depth using *args and **kwargs."
   ]
  },
  {
   "cell_type": "code",
   "execution_count": 32,
   "id": "945c55d8-c54c-4fa3-8dc1-5f3d3f602ff3",
   "metadata": {},
   "outputs": [
    {
     "name": "stdout",
     "output_type": "stream",
     "text": [
      "Flattened List: [1, 2, 3, 4, 5, 6]\n"
     ]
    }
   ],
   "source": [
    "def flattenList(nested_list):\n",
    "    flatList = []\n",
    "    for item in nested_list:\n",
    "        if isinstance(item, list):\n",
    "            flatList.extend(flattenList(item))\n",
    "        else:\n",
    "            flatList.append(item)\n",
    "    return flatList\n",
    "nested =([1, [2, 3], [[4, 5], 6]])\n",
    "flattened = flattenList(nested)\n",
    "print(\"Flattened List:\", flattened)"
   ]
  }
 ],
 "metadata": {
  "kernelspec": {
   "display_name": "Python 3 (ipykernel)",
   "language": "python",
   "name": "python3"
  },
  "language_info": {
   "codemirror_mode": {
    "name": "ipython",
    "version": 3
   },
   "file_extension": ".py",
   "mimetype": "text/x-python",
   "name": "python",
   "nbconvert_exporter": "python",
   "pygments_lexer": "ipython3",
   "version": "3.10.7"
  }
 },
 "nbformat": 4,
 "nbformat_minor": 5
}
