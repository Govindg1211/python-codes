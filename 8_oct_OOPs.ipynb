{
 "cells": [
  {
   "cell_type": "code",
   "execution_count": 4,
   "id": "7960a672-a150-41c4-8f6e-2b163e73fdb9",
   "metadata": {},
   "outputs": [
    {
     "name": "stdout",
     "output_type": "stream",
     "text": [
      "<__main__.point object at 0x000001518A49D3C0>\n",
      "0\n",
      "1\n",
      "2.23606797749979\n",
      "1.7320508075688772\n"
     ]
    }
   ],
   "source": [
    "class point:\n",
    "    def __init__(self,x,y):\n",
    "        self.x = x\n",
    "        self.y = y\n",
    "        # self.R = (x**2 + y**2)**(1/2)\n",
    "    \n",
    "    def distance(self,otherpoint):\n",
    "        x1 = self.x\n",
    "        y1 = self.y\n",
    "        x2 = otherpoint.x\n",
    "        y2 = otherpoint.y\n",
    "        d = ((x2-x1)^2 + (y2-y1)^2) ** (1/2)\n",
    "        return d\n",
    "\n",
    "p1 = point(0,1) #initializing object\n",
    "p2 = point(2,4)\n",
    "p3 = point(3,6)\n",
    "p4 = point(7,7)\n",
    "\n",
    "\n",
    "print(p1)\n",
    "print(p1.x)\n",
    "print(p1.y)\n",
    "\n",
    "# distance between p1 and p2\n",
    "\n",
    "print(p1.distance(p2))\n",
    "print(p2.distance(p1))"
   ]
  },
  {
   "cell_type": "code",
   "execution_count": null,
   "id": "57a876c3-becc-4236-b740-8f8fbf5ba675",
   "metadata": {},
   "outputs": [],
   "source": []
  }
 ],
 "metadata": {
  "kernelspec": {
   "display_name": "Python 3 (ipykernel)",
   "language": "python",
   "name": "python3"
  },
  "language_info": {
   "codemirror_mode": {
    "name": "ipython",
    "version": 3
   },
   "file_extension": ".py",
   "mimetype": "text/x-python",
   "name": "python",
   "nbconvert_exporter": "python",
   "pygments_lexer": "ipython3",
   "version": "3.10.7"
  }
 },
 "nbformat": 4,
 "nbformat_minor": 5
}
