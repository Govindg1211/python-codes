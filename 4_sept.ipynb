{
 "cells": [
  {
   "cell_type": "markdown",
   "id": "5388a2da-ab80-4d98-9c94-2cbb8d9fd419",
   "metadata": {},
   "source": [
    "1 write a function that takes 1 variable as an input and returns its sum, cumulative sum, average, minimum, and maximum value using for loop define function documentation using doc string and show its users "
   ]
  },
  {
   "cell_type": "code",
   "execution_count": 10,
   "id": "a28553ad-0001-4afe-93f5-aa93e89cadb5",
   "metadata": {},
   "outputs": [
    {
     "name": "stdin",
     "output_type": "stream",
     "text": [
      "Enter elements:  5\n",
      "Enter number:  12\n",
      "Enter number:  23\n",
      "Enter number:  34\n",
      "Enter number:  45\n",
      "Enter number:  56\n"
     ]
    },
    {
     "name": "stdout",
     "output_type": "stream",
     "text": [
      "sum 170\n",
      "Average 34.0\n",
      "Minimum 12\n",
      "Maximum 56\n",
      "[12, 35, 69, 114, 170]\n"
     ]
    }
   ],
   "source": [
    "n = int(input(\"Enter elements: \"))\n",
    "list1 = list()\n",
    "cl=list()\n",
    "sum = 0\n",
    "for i in range(n):\n",
    "    num = int(input(\"Enter number: \"))\n",
    "    list1.append(num)\n",
    "for i in list1:\n",
    "    sum=sum+i\n",
    "    cl.append(sum)\n",
    "print(\"sum\", sum)\n",
    "print(\"Average\",sum/n)\n",
    "print(\"Minimum\", min(list1))\n",
    "print(\"Maximum\", max(list1))\n",
    "print(cl)"
   ]
  },
  {
   "cell_type": "code",
   "execution_count": 24,
   "id": "985c31cb-ce0e-432c-b3cb-f08cde22a9e8",
   "metadata": {},
   "outputs": [
    {
     "name": "stdin",
     "output_type": "stream",
     "text": [
      "enter number 3\n"
     ]
    },
    {
     "name": "stdout",
     "output_type": "stream",
     "text": [
      "6\n"
     ]
    }
   ],
   "source": [
    "num = int(input(\"enter number\"))\n",
    "list1=0\n",
    "for i in range(num,0,-1):\n",
    "    list1 = list1 + i\n",
    "print(list1)"
   ]
  },
  {
   "cell_type": "code",
   "execution_count": null,
   "id": "035d8e6a-aa38-4850-b0a4-a2b51f69db1b",
   "metadata": {},
   "outputs": [],
   "source": [
    "x"
   ]
  }
 ],
 "metadata": {
  "kernelspec": {
   "display_name": "Python 3 (ipykernel)",
   "language": "python",
   "name": "python3"
  },
  "language_info": {
   "codemirror_mode": {
    "name": "ipython",
    "version": 3
   },
   "file_extension": ".py",
   "mimetype": "text/x-python",
   "name": "python",
   "nbconvert_exporter": "python",
   "pygments_lexer": "ipython3",
   "version": "3.12.4"
  }
 },
 "nbformat": 4,
 "nbformat_minor": 5
}
