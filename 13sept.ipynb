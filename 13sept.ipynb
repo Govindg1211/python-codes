{
 "cells": [
  {
   "cell_type": "markdown",
   "id": "ea3c2d74-2cd9-4dac-a926-affc8c272090",
   "metadata": {},
   "source": [
    "## try  catch in python for error handling"
   ]
  },
  {
   "cell_type": "code",
   "execution_count": 1,
   "id": "89b86b10-4bed-413a-bb5a-7030c04a4fc1",
   "metadata": {},
   "outputs": [
    {
     "name": "stdout",
     "output_type": "stream",
     "text": [
      "value of 5\n",
      "value of 5\n"
     ]
    }
   ],
   "source": [
    "a = 5\n",
    "print (f\"value of {a}\")\n",
    "try:\n",
    "    print(f\"value of {a}\")\n",
    "except:\n",
    "    print(\"value of 'a' does not exist\")"
   ]
  },
  {
   "cell_type": "code",
   "execution_count": 2,
   "id": "16aff7a0-9d0d-49a1-aa5b-b858d366c0e7",
   "metadata": {},
   "outputs": [
    {
     "name": "stdout",
     "output_type": "stream",
     "text": [
      "assertion is true\n"
     ]
    }
   ],
   "source": [
    "a = 10\n",
    "b = 20\n",
    "\n",
    "assert a< b\n",
    "print(\"assertion is true\")"
   ]
  },
  {
   "cell_type": "code",
   "execution_count": 4,
   "id": "ef140488-a5db-47f6-a53b-988117ac6c89",
   "metadata": {},
   "outputs": [
    {
     "name": "stdout",
     "output_type": "stream",
     "text": [
      "assertion is true\n"
     ]
    }
   ],
   "source": [
    "a = 10\n",
    "b = 20\n",
    "try:\n",
    "    assert a< b\n",
    "    print(\"assertion is true\")\n",
    "except:\n",
    "    print(\"assertion is false\")"
   ]
  },
  {
   "cell_type": "code",
   "execution_count": 5,
   "id": "aa902960-5e8f-4448-855b-dd8a4eb70022",
   "metadata": {},
   "outputs": [
    {
     "name": "stdout",
     "output_type": "stream",
     "text": [
      "assertion is false\n"
     ]
    }
   ],
   "source": [
    "a = 10\n",
    "b = 20\n",
    "try:\n",
    "    assert a> b\n",
    "    print(\"assertion is true\")\n",
    "except:\n",
    "    print(\"assertion is false\")"
   ]
  },
  {
   "cell_type": "markdown",
   "id": "e6260158-b3fb-49e2-ad4a-4dd30571dda3",
   "metadata": {},
   "source": [
    "write a program that takes 2 values from the user and returns division of first from second "
   ]
  },
  {
   "cell_type": "code",
   "execution_count": 10,
   "id": "78476a5a-3736-42d6-8f4a-f7b4a9bf04fa",
   "metadata": {},
   "outputs": [
    {
     "name": "stdin",
     "output_type": "stream",
     "text": [
      "enter the first value:  12\n",
      "enter the second value:  0\n"
     ]
    },
    {
     "name": "stdout",
     "output_type": "stream",
     "text": [
      "it is not divisible by 0\n"
     ]
    }
   ],
   "source": [
    "a = int(input(\"enter the first value: \"))\n",
    "b = int(input(\"enter the second value: \"))\n",
    "\n",
    "def div(a,b):\n",
    "    #assert b != 0 # this will give an assertion error that will save time while debugging \n",
    "    return a/b\n",
    "try: \n",
    "    print(f\"division of {a}/{b} is {div(a,b)}\")\n",
    "\n",
    "except:\n",
    "    print(\"it is not divisible by 0\")"
   ]
  },
  {
   "cell_type": "code",
   "execution_count": null,
   "id": "1e90dff4-cac2-45a1-8b0c-962d702ae011",
   "metadata": {},
   "outputs": [],
   "source": []
  }
 ],
 "metadata": {
  "kernelspec": {
   "display_name": "Python 3 (ipykernel)",
   "language": "python",
   "name": "python3"
  },
  "language_info": {
   "codemirror_mode": {
    "name": "ipython",
    "version": 3
   },
   "file_extension": ".py",
   "mimetype": "text/x-python",
   "name": "python",
   "nbconvert_exporter": "python",
   "pygments_lexer": "ipython3",
   "version": "3.10.7"
  }
 },
 "nbformat": 4,
 "nbformat_minor": 5
}
