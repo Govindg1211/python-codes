{
 "cells": [
  {
   "cell_type": "code",
   "execution_count": 1,
   "id": "18027d2d-34fd-403e-b862-bc4372931a46",
   "metadata": {},
   "outputs": [
    {
     "name": "stdout",
     "output_type": "stream",
     "text": [
      "The data has been serialized and saves to data.pkl\n"
     ]
    }
   ],
   "source": [
    "import pickle\n",
    "\n",
    "#a python object (dictionary in this case)\n",
    "data = {\"name\" : \"Govind\", \"age\" : 21, \"occupation\" : \"student\"}\n",
    "\n",
    "with open (\"data.pkl\", \"wb\") as file:\n",
    "    pickle.dump(data, file)\n",
    "\n",
    "print(\"The data has been serialized and saves to data.pkl\")"
   ]
  },
  {
   "cell_type": "code",
   "execution_count": null,
   "id": "4bbfdaf3-6039-41fd-8443-693fe454fa52",
   "metadata": {},
   "outputs": [],
   "source": []
  }
 ],
 "metadata": {
  "kernelspec": {
   "display_name": "Python 3 (ipykernel)",
   "language": "python",
   "name": "python3"
  },
  "language_info": {
   "codemirror_mode": {
    "name": "ipython",
    "version": 3
   },
   "file_extension": ".py",
   "mimetype": "text/x-python",
   "name": "python",
   "nbconvert_exporter": "python",
   "pygments_lexer": "ipython3",
   "version": "3.10.7"
  }
 },
 "nbformat": 4,
 "nbformat_minor": 5
}
