{
 "cells": [
  {
   "cell_type": "code",
   "execution_count": 7,
   "id": "18027d2d-34fd-403e-b862-bc4372931a46",
   "metadata": {},
   "outputs": [
    {
     "name": "stdout",
     "output_type": "stream",
     "text": [
      "The data has been serialized and saves to data.pkl\n"
     ]
    }
   ],
   "source": [
    "import pickle\n",
    "\n",
    "#a python object (dictionary in this case)\n",
    "data = {\"name\" : \"Govind\", \"age\" : 21, \"occupation\" : \"student\"}\n",
    "\n",
    "with open (\"data.pickle\", \"wb\") as file:\n",
    "    pickle.dump(data, file)\n",
    "\n",
    "print(\"The data has been serialized and saves to data.pkl\")"
   ]
  },
  {
   "cell_type": "code",
   "execution_count": 10,
   "id": "4bbfdaf3-6039-41fd-8443-693fe454fa52",
   "metadata": {},
   "outputs": [
    {
     "name": "stdout",
     "output_type": "stream",
     "text": [
      "Deserialized data: {'name': 'Govind', 'age': 21, 'occupation': 'student'}\n"
     ]
    }
   ],
   "source": [
    "#Read from a binary file\n",
    "with open(\"data.pickle\", \"rb\") as file:\n",
    "    loaded_data=pickle.load(file)\n",
    "print(\"Deserialized data:\",loaded_data)"
   ]
  },
  {
   "cell_type": "code",
   "execution_count": 11,
   "id": "4d9767c5-8bbc-4db3-b12d-18ae92391871",
   "metadata": {},
   "outputs": [
    {
     "name": "stdout",
     "output_type": "stream",
     "text": [
      "Data has been serialized and saved to data.pickle b'\\x80\\x04\\x953\\x00\\x00\\x00\\x00\\x00\\x00\\x00}\\x94(\\x8c\\x04name\\x94\\x8c\\x05Varun\\x94\\x8c\\x03age\\x94K\\x15\\x8c\\nOccupation\\x94\\x8c\\x07student\\x94u.'\n"
     ]
    }
   ],
   "source": [
    "#Using Dumps\n",
    "data={\"name\":\"Varun\",\"age\":21,\"Occupation\":\"student\"}\n",
    "with open(\"data.pickle\",\"wb\") as file:\n",
    "    datas=pickle.dumps(data)\n",
    "print(\"Data has been serialized and saved to data.pickle\",datas)"
   ]
  },
  {
   "cell_type": "code",
   "execution_count": null,
   "id": "bf5a2e35-5eb3-4aa8-9452-4a1a985cdea9",
   "metadata": {},
   "outputs": [],
   "source": []
  }
 ],
 "metadata": {
  "kernelspec": {
   "display_name": "Python 3 (ipykernel)",
   "language": "python",
   "name": "python3"
  },
  "language_info": {
   "codemirror_mode": {
    "name": "ipython",
    "version": 3
   },
   "file_extension": ".py",
   "mimetype": "text/x-python",
   "name": "python",
   "nbconvert_exporter": "python",
   "pygments_lexer": "ipython3",
   "version": "3.10.7"
  }
 },
 "nbformat": 4,
 "nbformat_minor": 5
}
